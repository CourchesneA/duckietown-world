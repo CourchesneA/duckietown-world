{
 "cells": [
  {
   "cell_type": "markdown",
   "metadata": {},
   "source": [
    "# Setup"
   ]
  },
  {
   "cell_type": "code",
   "execution_count": 1,
   "metadata": {
    "collapsed": true
   },
   "outputs": [],
   "source": [
    "import contracts\n",
    "contracts.disable_all()"
   ]
  },
  {
   "cell_type": "code",
   "execution_count": 1,
   "metadata": {},
   "outputs": [
    {
     "name": "stderr",
     "output_type": "stream",
     "text": [
      "INFO:dt-world:duckietown-world 1.0.30\n",
      "INFO:zj:zj 2.0.4\n",
      "INFO:dt-world:contracts 1.8.12 \n"
     ]
    }
   ],
   "source": [
    "import duckietown_world as dw\n",
    "from duckietown_world.svg_drawing.ipython_utils import ipython_draw_html"
   ]
  },
  {
   "cell_type": "code",
   "execution_count": 3,
   "metadata": {},
   "outputs": [],
   "source": [
    "dw.logger.setLevel(50)"
   ]
  },
  {
   "cell_type": "markdown",
   "metadata": {},
   "source": [
    "Better visualization of output"
   ]
  },
  {
   "cell_type": "code",
   "execution_count": 4,
   "metadata": {},
   "outputs": [
    {
     "data": {
      "text/html": [
       "<style>\n",
       "pre {line-height: 90%}\n",
       "</style>"
      ],
      "text/plain": [
       "<IPython.core.display.HTML object>"
      ]
     },
     "metadata": {},
     "output_type": "display_data"
    }
   ],
   "source": [
    "%%html\n",
    "<style>\n",
    "pre {line-height: 90%}\n",
    "</style>"
   ]
  },
  {
   "cell_type": "markdown",
   "metadata": {},
   "source": [
    "# Getting data out of the Duckietown World maps\n",
    "Let's load a map."
   ]
  },
  {
   "cell_type": "code",
   "execution_count": 5,
   "metadata": {},
   "outputs": [],
   "source": [
    "m = dw.load_map('robotarium1')\n"
   ]
  },
  {
   "cell_type": "code",
   "execution_count": 42,
   "metadata": {
    "scrolled": true
   },
   "outputs": [],
   "source": [
    "# ipython_draw_html(m);"
   ]
  },
  {
   "cell_type": "markdown",
   "metadata": {},
   "source": [
    "If you want to get all the tiles, use:"
   ]
  },
  {
   "cell_type": "code",
   "execution_count": 43,
   "metadata": {},
   "outputs": [],
   "source": [
    "from duckietown_world.geo.measurements_utils import iterate_by_class\n",
    "\n",
    "records = list(iterate_by_class(m, dw.Tile))"
   ]
  },
  {
   "cell_type": "markdown",
   "metadata": {},
   "source": [
    "Each \"record\" here is of class `IterateByTestResult`"
   ]
  },
  {
   "cell_type": "code",
   "execution_count": 16,
   "metadata": {},
   "outputs": [
    {
     "data": {
      "text/plain": [
       "IterateByTestResult(fqn=('tilemap', 'tile-5-17'), transform_sequence=TransformSequence([Scale2D(scale=0.585), TileCoords(i=5,j=17,orientation=E)]), object=Tile(kind=asphalt,drivable=True))"
      ]
     },
     "execution_count": 16,
     "metadata": {},
     "output_type": "execute_result"
    }
   ],
   "source": [
    "records[0]"
   ]
  },
  {
   "cell_type": "markdown",
   "metadata": {},
   "source": [
    "The record contains the name of the object, the object, and the sequence of transforms:"
   ]
  },
  {
   "cell_type": "code",
   "execution_count": 17,
   "metadata": {},
   "outputs": [
    {
     "name": "stdout",
     "output_type": "stream",
     "text": [
      "name of tile: ('tilemap', 'tile-5-17')\n"
     ]
    }
   ],
   "source": [
    "print('name of object: {}'.format(records[0].fqn))"
   ]
  },
  {
   "cell_type": "code",
   "execution_count": 18,
   "metadata": {},
   "outputs": [
    {
     "name": "stdout",
     "output_type": "stream",
     "text": [
      "the object: Tile(kind=asphalt,drivable=True)\n"
     ]
    }
   ],
   "source": [
    "print('the object: {}'.format(records[0].object))"
   ]
  },
  {
   "cell_type": "code",
   "execution_count": 19,
   "metadata": {
    "scrolled": true
   },
   "outputs": [
    {
     "name": "stdout",
     "output_type": "stream",
     "text": [
      "transfoms: TransformSequence([Scale2D(scale=0.585), TileCoords(i=5,j=17,orientation=E)])\n"
     ]
    }
   ],
   "source": [
    "print('transfoms: {}'.format(records[0].transform_sequence))"
   ]
  },
  {
   "cell_type": "markdown",
   "metadata": {},
   "source": [
    "You probably want to \"compress\" the transforms into one matrix. For this use the function `asmatrix2d`:"
   ]
  },
  {
   "cell_type": "code",
   "execution_count": 21,
   "metadata": {
    "scrolled": true
   },
   "outputs": [
    {
     "data": {
      "text/plain": [
       "Matrix2D(m=[[  0.58499998   0.           3.21749997]\n",
       " [  0.           0.58499998  10.23749924]\n",
       " [  0.           0.           1.        ]])"
      ]
     },
     "execution_count": 21,
     "metadata": {},
     "output_type": "execute_result"
    }
   ],
   "source": [
    "records[0].transform_sequence.asmatrix2d()"
   ]
  },
  {
   "cell_type": "markdown",
   "metadata": {},
   "source": [
    "## Putting it all together\n",
    "\n",
    "The following code shows the proper way to \"get the tiles with their pose\".\n",
    "\n",
    "Note that each tile is nominally of side 1; the scale is contained in the transformation matrix."
   ]
  },
  {
   "cell_type": "code",
   "execution_count": 38,
   "metadata": {},
   "outputs": [
    {
     "name": "stdout",
     "output_type": "stream",
     "text": [
      "tile kind:      asphalt   translation:   3.22  10.24  angle:      0.0 deg  scale: 0.58\n",
      "tile kind:     straight   translation:   0.29   3.22  angle:     90.0 deg  scale: 0.58\n",
      "tile kind:    3way_left   translation:   5.56   2.05  angle:     90.0 deg  scale: 0.58\n",
      "tile kind:     straight   translation:   4.39   0.29  angle:      0.0 deg  scale: 0.58\n",
      "tile kind:   curve_left   translation:   2.63   7.31  angle:   -180.0 deg  scale: 0.58\n",
      "tile kind:     straight   translation:   2.05   6.73  angle:      0.0 deg  scale: 0.58\n",
      "tile kind:    3way_left   translation:   3.80   0.29  angle:      0.0 deg  scale: 0.58\n",
      "tile kind:      asphalt   translation:   2.05   4.97  angle:      0.0 deg  scale: 0.58\n",
      "tile kind:      asphalt   translation:   4.97   1.46  angle:      0.0 deg  scale: 0.58\n",
      "tile kind:   curve_left   translation:   2.63   5.56  angle:     90.0 deg  scale: 0.58\n",
      "tile kind:      asphalt   translation:   1.46   4.97  angle:      0.0 deg  scale: 0.58\n",
      "tile kind:      asphalt   translation:   4.39  10.24  angle:      0.0 deg  scale: 0.58\n",
      "tile kind:     straight   translation:   1.46   7.31  angle:     90.0 deg  scale: 0.58\n",
      "tile kind:      asphalt   translation:   3.22   5.56  angle:      0.0 deg  scale: 0.58\n",
      "tile kind:   curve_left   translation:   4.39   4.39  angle:     90.0 deg  scale: 0.58\n"
     ]
    }
   ],
   "source": [
    "import geometry as geo\n",
    "import numpy as np\n",
    "\n",
    "for record in records[:15]: # only first 15\n",
    "    tile = record.object\n",
    "    matrix = record.transform_sequence.asmatrix2d().m\n",
    "    translation, angle, scale = geo.translation_angle_scale_from_E2(matrix)\n",
    "    print('tile kind: %12s   translation: %6.2f %6.2f  angle: %8s deg  scale: %.2f' % (tile.kind, translation[0], translation[1], np.rad2deg(angle), scale))"
   ]
  },
  {
   "cell_type": "markdown",
   "metadata": {},
   "source": [
    "# Getting other objects\n",
    "\n",
    "The same can be repeated with lane segments, traffic signs, etc.\n",
    "\n",
    "For example, the following iterates over traffic signs:\n",
    "\n"
   ]
  },
  {
   "cell_type": "code",
   "execution_count": 41,
   "metadata": {},
   "outputs": [
    {
     "name": "stdout",
     "output_type": "stream",
     "text": [
      "object:  SignRightTIntersect()   translation:   0.64   4.70  angle:    -90.0 deg  scale: 1.00\n",
      "object:  SignRightTIntersect()   translation:   5.21   3.49  angle:     90.0 deg  scale: 1.00\n",
      "object:   SignLeftTIntersect()   translation:   5.90   4.12  angle:    -90.0 deg  scale: 1.00\n",
      "object:    Sign4WayIntersect()   translation:   2.95   4.04  angle:   -180.0 deg  scale: 1.00\n",
      "object:    Sign4WayIntersect()   translation:   3.49   2.39  angle:      0.0 deg  scale: 1.00\n",
      "object:  SignRightTIntersect()   translation:   2.36   1.70  angle:   -180.0 deg  scale: 1.00\n",
      "object:  SignRightTIntersect()   translation:   1.78   6.38  angle:   -180.0 deg  scale: 1.00\n",
      "object:       SignTIntersect()   translation:   1.81   7.04  angle:    -90.0 deg  scale: 1.00\n",
      "object:    Sign4WayIntersect()   translation:   1.12   6.41  angle:     90.0 deg  scale: 1.00\n",
      "object:  SignRightTIntersect()   translation:   1.81   8.80  angle:    -90.0 deg  scale: 1.00\n",
      "object:   SignLeftTIntersect()   translation:  -0.05   4.07  angle:     90.0 deg  scale: 1.00\n",
      "object:       SignTIntersect()   translation:   5.87   3.46  angle:   -180.0 deg  scale: 1.00\n",
      "object:  SignRightTIntersect()   translation:   3.49   0.64  angle:      0.0 deg  scale: 1.00\n",
      "object:   SignLeftTIntersect()   translation:   5.90   2.36  angle:    -90.0 deg  scale: 1.00\n",
      "object:    Sign4WayIntersect()   translation:   2.98   4.70  angle:    -90.0 deg  scale: 1.00\n",
      "object:       SignTIntersect()   translation:   5.87   1.70  angle:   -180.0 deg  scale: 1.00\n",
      "object:       SignTIntersect()   translation:   3.46  -0.02  angle:     90.0 deg  scale: 1.00\n",
      "object:   SignLeftTIntersect()   translation:   1.73   2.39  angle:      0.0 deg  scale: 1.00\n",
      "object:   SignLeftTIntersect()   translation:   4.12  -0.05  angle:   -180.0 deg  scale: 1.00\n",
      "object:    Sign4WayIntersect()   translation:   2.32   4.73  angle:      0.0 deg  scale: 1.00\n",
      "object:    Sign4WayIntersect()   translation:   4.15   2.36  angle:    -90.0 deg  scale: 1.00\n",
      "object:  SignRightTIntersect()   translation:   1.73   0.64  angle:      0.0 deg  scale: 1.00\n",
      "object:       SignTIntersect()   translation:  -0.02   4.73  angle:      0.0 deg  scale: 1.00\n",
      "object:       SignTIntersect()   translation:  -0.02   2.39  angle:      0.0 deg  scale: 1.00\n",
      "object:       SignTIntersect()   translation:   2.39   2.36  angle:    -90.0 deg  scale: 1.00\n",
      "object:   SignLeftTIntersect()   translation:   1.15   7.07  angle:      0.0 deg  scale: 1.00\n",
      "object:    Sign4WayIntersect()   translation:   4.12   1.70  angle:   -180.0 deg  scale: 1.00\n",
      "object:  SignRightTIntersect()   translation:   0.64   2.36  angle:    -90.0 deg  scale: 1.00\n",
      "object:       SignTIntersect()   translation:   1.70  -0.02  angle:     90.0 deg  scale: 1.00\n",
      "object:    Sign4WayIntersect()   translation:   2.29   4.07  angle:     90.0 deg  scale: 1.00\n",
      "object:    Sign4WayIntersect()   translation:   3.46   1.73  angle:     90.0 deg  scale: 1.00\n",
      "object:  SignRightTIntersect()   translation:   5.21   1.73  angle:     90.0 deg  scale: 1.00\n",
      "object:   SignLeftTIntersect()   translation:   2.36  -0.05  angle:   -180.0 deg  scale: 1.00\n",
      "object:   SignLeftTIntersect()   translation:  -0.05   1.73  angle:     90.0 deg  scale: 1.00\n"
     ]
    }
   ],
   "source": [
    "import geometry as geo\n",
    "import numpy as np\n",
    "\n",
    "for record in iterate_by_class(m, dw.Sign):\n",
    "    ob = record.object\n",
    "    matrix = record.transform_sequence.asmatrix2d().m\n",
    "    translation, angle, scale = geo.translation_angle_scale_from_E2(matrix)\n",
    "    print('object: %22s   translation: %6.2f %6.2f  angle: %8s deg  scale: %.2f' % (ob, translation[0], translation[1], np.rad2deg(angle), scale))"
   ]
  }
 ],
 "metadata": {
  "kernelspec": {
   "display_name": "Python 3",
   "language": "python",
   "name": "python3"
  },
  "language_info": {
   "codemirror_mode": {
    "name": "ipython",
    "version": 3
   },
   "file_extension": ".py",
   "mimetype": "text/x-python",
   "name": "python",
   "nbconvert_exporter": "python",
   "pygments_lexer": "ipython3",
   "version": "3.7.2"
  }
 },
 "nbformat": 4,
 "nbformat_minor": 2
}
