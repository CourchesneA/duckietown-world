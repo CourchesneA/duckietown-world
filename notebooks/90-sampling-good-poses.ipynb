{
 "cells": [
  {
   "cell_type": "markdown",
   "metadata": {},
   "source": [
    "# Sampling good poses\n",
    "\n",
    "This notebook shows you how to sample good poses for a robot.\n",
    "\n"
   ]
  },
  {
   "cell_type": "code",
   "execution_count": null,
   "metadata": {},
   "outputs": [],
   "source": [
    "import contracts\n",
    "contracts.disable_all()\n",
    "import duckietown_world as dw\n",
    "from duckietown_world.svg_drawing.ipython_utils import ipython_draw_html\n",
    "dw.logger.setLevel(50)"
   ]
  },
  {
   "cell_type": "markdown",
   "metadata": {},
   "source": [
    "First, we load a map."
   ]
  },
  {
   "cell_type": "code",
   "execution_count": null,
   "metadata": {},
   "outputs": [],
   "source": [
    "m = dw.load_map('loop_obstacles')\n",
    "ipython_draw_html(m);"
   ]
  },
  {
   "cell_type": "code",
   "execution_count": null,
   "metadata": {},
   "outputs": [],
   "source": [
    "from duckietown_world.world_duckietown.sampling_poses import sample_good_starting_pose\n",
    "\n",
    "for i in range(4):\n",
    "    q = sample_good_starting_pose(m);\n",
    "    print(q)\n",
    "    m.set_object('db18-%s'% i, dw.DB18(), ground_truth=dw.SE2Transform.from_SE2(q))\n",
    "ipython_draw_html(m);"
   ]
  }
 ],
 "metadata": {
  "kernelspec": {
   "display_name": "Python 3",
   "language": "python",
   "name": "python3"
  },
  "language_info": {
   "codemirror_mode": {
    "name": "ipython",
    "version": 3
   },
   "file_extension": ".py",
   "mimetype": "text/x-python",
   "name": "python",
   "nbconvert_exporter": "python",
   "pygments_lexer": "ipython3",
   "version": "3.7.2"
  }
 },
 "nbformat": 4,
 "nbformat_minor": 2
}
